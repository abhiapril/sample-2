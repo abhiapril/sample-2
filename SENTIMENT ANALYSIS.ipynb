{
 "cells": [
  {
   "cell_type": "code",
   "execution_count": 20,
   "metadata": {},
   "outputs": [],
   "source": [
    "import numpy as np \n",
    "import pandas as pd\n",
    "import matplotlib.pyplot as plt\n",
    "import nltk\n",
    "%matplotlib inline"
   ]
  },
  {
   "cell_type": "markdown",
   "metadata": {},
   "source": [
    "### Explore the data"
   ]
  },
  {
   "cell_type": "code",
   "execution_count": 21,
   "metadata": {},
   "outputs": [],
   "source": [
    "data = pd.read_csv(\"clean_data.csv\") #import dataset"
   ]
  },
  {
   "cell_type": "code",
   "execution_count": 22,
   "metadata": {},
   "outputs": [
    {
     "name": "stdout",
     "output_type": "stream",
     "text": [
      "hotel_name\n",
      "address\n",
      "country\n",
      "average_Score_hotel\n",
      "total_number_of_reviews\n",
      "reviewer_score\n",
      "All_Review\n",
      "positive_review\n",
      "negative_review\n",
      "review_date\n",
      "reviewer_nationality\n",
      "total_number_of_reviews_reviewer_has_given\n",
      "tags\n",
      "lat\n",
      "lng\n"
     ]
    }
   ],
   "source": [
    "#list all the column headers:\n",
    "for i in data.columns:\n",
    "    print(i)"
   ]
  },
  {
   "cell_type": "code",
   "execution_count": 23,
   "metadata": {},
   "outputs": [
    {
     "data": {
      "text/plain": [
       "515212"
      ]
     },
     "execution_count": 23,
     "metadata": {},
     "output_type": "execute_result"
    }
   ],
   "source": [
    "len(data) #total number of reviews"
   ]
  },
  {
   "cell_type": "code",
   "execution_count": 24,
   "metadata": {},
   "outputs": [
    {
     "data": {
      "text/plain": [
       "1492"
      ]
     },
     "execution_count": 24,
     "metadata": {},
     "output_type": "execute_result"
    }
   ],
   "source": [
    "len(data.hotel_name.unique()) #total number of hotels being reviewed in this dataset"
   ]
  },
  {
   "cell_type": "code",
   "execution_count": 25,
   "metadata": {},
   "outputs": [
    {
     "data": {
      "text/plain": [
       "9.8"
      ]
     },
     "execution_count": 25,
     "metadata": {},
     "output_type": "execute_result"
    }
   ],
   "source": [
    "max_rating = data.average_Score_hotel.max()\n",
    "max_rating"
   ]
  },
  {
   "cell_type": "code",
   "execution_count": 26,
   "metadata": {},
   "outputs": [
    {
     "data": {
      "text/plain": [
       "5.2"
      ]
     },
     "execution_count": 26,
     "metadata": {},
     "output_type": "execute_result"
    }
   ],
   "source": [
    "min_rating = data.average_Score_hotel.min() \n",
    "min_rating"
   ]
  },
  {
   "cell_type": "code",
   "execution_count": 27,
   "metadata": {},
   "outputs": [
    {
     "name": "stdout",
     "output_type": "stream",
     "text": [
      "The mean rating is 8.397766938658263\n"
     ]
    }
   ],
   "source": [
    "mean_rating = data.average_Score_hotel.mean()\n",
    "print('The mean rating is '+ str(mean_rating))\n"
   ]
  },
  {
   "cell_type": "markdown",
   "metadata": {},
   "source": [
    "##### [ The ratings are between 5.2 and 9.8, with a mean of 8.4 ]"
   ]
  },
  {
   "cell_type": "markdown",
   "metadata": {},
   "source": [
    "### Natural Language Processing - Tokenize the reviews and build a bag-of-words model\n",
    "The first goal is to do sentiment analysis on the positive and negative reviews. To do this, we need to first tokenize the words using nltk, remove the stopwords, and build a bag-of-words model."
   ]
  },
  {
   "cell_type": "code",
   "execution_count": 28,
   "metadata": {},
   "outputs": [],
   "source": [
    "#nltk.download(\"punkt\")"
   ]
  },
  {
   "cell_type": "code",
   "execution_count": 29,
   "metadata": {},
   "outputs": [
    {
     "name": "stdout",
     "output_type": "stream",
     "text": [
      "<class 'pandas.core.series.Series'>\n"
     ]
    }
   ],
   "source": [
    "pos_reviews = data.positive_review\n",
    "neg_reviews = data.negative_review\n",
    "print(type(pos_reviews))"
   ]
  },
  {
   "cell_type": "code",
   "execution_count": 30,
   "metadata": {},
   "outputs": [
    {
     "name": "stdout",
     "output_type": "stream",
     "text": [
      "['No', 'real', 'complaints', 'the', 'hotel', 'was', 'great', 'great', 'location', 'surroundings', 'rooms', 'amenities', 'and', 'service', 'Two', 'recommendations', 'however', 'firstly', 'the', 'staff', 'upon', 'check', 'in', 'are', 'very', 'confusing', 'regarding', 'deposit', 'payments', 'and', 'the', 'staff', 'offer', 'you', 'upon', 'checkout', 'to', 'refund', 'your', 'original', 'payment', 'and', 'you', 'can', 'make', 'a', 'new', 'one', 'Bit', 'confusing', 'Secondly', 'the', 'on', 'site', 'restaurant', 'is', 'a', 'bit', 'lacking', 'very', 'well', 'thought', 'out', 'and', 'excellent', 'quality', 'food', 'for', 'anyone', 'of', 'a', 'vegetarian', 'or', 'vegan', 'background', 'but', 'even', 'a', 'wrap', 'or', 'toasted', 'sandwich', 'option', 'would', 'be', 'great', 'Aside', 'from', 'those', 'minor', 'minor', 'things', 'fantastic', 'spot', 'and', 'will', 'be', 'back', 'when', 'i', 'return', 'to', 'Amsterdam']\n"
     ]
    }
   ],
   "source": [
    "pos_reviews_words = nltk.word_tokenize(pos_reviews[1]) #word_tokenize only works for text file, not whole series\n",
    "#len(pos_reviews[0])\n",
    "#print(pos_reviews[1])\n",
    "print(pos_reviews_words) #tokenize and print the second review (the first was too short)"
   ]
  },
  {
   "cell_type": "code",
   "execution_count": 31,
   "metadata": {},
   "outputs": [
    {
     "data": {
      "text/plain": [
       "515212"
      ]
     },
     "execution_count": 31,
     "metadata": {},
     "output_type": "execute_result"
    }
   ],
   "source": [
    "len(pos_reviews)"
   ]
  },
  {
   "cell_type": "code",
   "execution_count": 32,
   "metadata": {},
   "outputs": [],
   "source": [
    "pos_reviews_wordslist = []  \n",
    "#for i in range(5):\n",
    "for i in range(515212):\n",
    "    pos_reviews_wordslist.append(nltk.word_tokenize(pos_reviews.iloc[i])) #tokenize text in each positive review"
   ]
  },
  {
   "cell_type": "code",
   "execution_count": 33,
   "metadata": {},
   "outputs": [
    {
     "name": "stdout",
     "output_type": "stream",
     "text": [
      "Total number of words in the list: 8485464\n"
     ]
    }
   ],
   "source": [
    "total_words_pos = 0\n",
    "#Loop through the list of lists and count the words in each sublist\n",
    "for sublist in pos_reviews_wordslist:\n",
    "    total_words_pos+=len(sublist)\n",
    "\n",
    "# Print the total number of words\n",
    "print(\"Total number of words in the list:\", total_words_pos)"
   ]
  },
  {
   "cell_type": "code",
   "execution_count": 34,
   "metadata": {},
   "outputs": [
    {
     "name": "stdout",
     "output_type": "stream",
     "text": [
      "[['Only', 'the', 'park', 'outside', 'of', 'the', 'hotel', 'was', 'beautiful'], ['No', 'real', 'complaints', 'the', 'hotel', 'was', 'great', 'great', 'location', 'surroundings', 'rooms', 'amenities', 'and', 'service', 'Two', 'recommendations', 'however', 'firstly', 'the', 'staff', 'upon', 'check', 'in', 'are', 'very', 'confusing', 'regarding', 'deposit', 'payments', 'and', 'the', 'staff', 'offer', 'you', 'upon', 'checkout', 'to', 'refund', 'your', 'original', 'payment', 'and', 'you', 'can', 'make', 'a', 'new', 'one', 'Bit', 'confusing', 'Secondly', 'the', 'on', 'site', 'restaurant', 'is', 'a', 'bit', 'lacking', 'very', 'well', 'thought', 'out', 'and', 'excellent', 'quality', 'food', 'for', 'anyone', 'of', 'a', 'vegetarian', 'or', 'vegan', 'background', 'but', 'even', 'a', 'wrap', 'or', 'toasted', 'sandwich', 'option', 'would', 'be', 'great', 'Aside', 'from', 'those', 'minor', 'minor', 'things', 'fantastic', 'spot', 'and', 'will', 'be', 'back', 'when', 'i', 'return', 'to', 'Amsterdam'], ['Location', 'was', 'good', 'and', 'staff', 'were', 'ok', 'It', 'is', 'cute', 'hotel', 'the', 'breakfast', 'range', 'is', 'nice', 'Will', 'go', 'back'], ['Great', 'location', 'in', 'nice', 'surroundings', 'the', 'bar', 'and', 'restaurant', 'are', 'nice', 'and', 'have', 'a', 'lovely', 'outdoor', 'area', 'The', 'building', 'also', 'has', 'quite', 'some', 'character'], ['Amazing', 'location', 'and', 'building', 'Romantic', 'setting']]\n"
     ]
    }
   ],
   "source": [
    "print(pos_reviews_wordslist[:5])"
   ]
  },
  {
   "cell_type": "code",
   "execution_count": 35,
   "metadata": {},
   "outputs": [
    {
     "data": {
      "text/plain": [
       "list"
      ]
     },
     "execution_count": 35,
     "metadata": {},
     "output_type": "execute_result"
    }
   ],
   "source": [
    "type(pos_reviews_wordslist)"
   ]
  },
  {
   "cell_type": "code",
   "execution_count": 36,
   "metadata": {},
   "outputs": [],
   "source": [
    "neg_reviews_wordslist = [] #repeat tokenization for negative reviews\n",
    "for i in range(515212):\n",
    "    neg_reviews_wordslist.append(nltk.word_tokenize(neg_reviews.iloc[i])) #tokenize text in each negative review"
   ]
  },
  {
   "cell_type": "code",
   "execution_count": 37,
   "metadata": {},
   "outputs": [
    {
     "name": "stdout",
     "output_type": "stream",
     "text": [
      "Total number of words in the list: 9198202\n"
     ]
    }
   ],
   "source": [
    "total_words_neg = 0\n",
    "#Loop through the list of lists and count the words in each sublist\n",
    "for sublist in neg_reviews_wordslist:\n",
    "    total_words_neg+=len(sublist)\n",
    "\n",
    "# Print the total number of words\n",
    "print(\"Total number of words in the list:\", total_words_neg)"
   ]
  },
  {
   "cell_type": "code",
   "execution_count": 38,
   "metadata": {},
   "outputs": [
    {
     "name": "stdout",
     "output_type": "stream",
     "text": [
      "[['no', 'trolly', 'or', 'staff', 'to', 'help', 'you', 'take', 'the', 'luggage', 'to', 'the', 'room'], ['The', 'hotel', 'looks', 'like', '3', 'but', 'surely', 'not', '4'], ['The', 'ac', 'was', 'useless', 'It', 'was', 'a', 'hot', 'week', 'in', 'vienna', 'and', 'it', 'only', 'gave', 'more', 'hot', 'air'], ['No', 'Negative'], ['I', 'was', 'in', '3rd', 'floor', 'It', 'didn', 't', 'work', 'Free', 'Wife']]\n"
     ]
    }
   ],
   "source": [
    "print(neg_reviews_wordslist[-5:])"
   ]
  },
  {
   "cell_type": "markdown",
   "metadata": {},
   "source": [
    "#### We have tokenized all the positive and negative reviews. Now we can apply stopwords and build a bag-of-words model with the filtered words."
   ]
  },
  {
   "cell_type": "code",
   "execution_count": 39,
   "metadata": {},
   "outputs": [],
   "source": [
    "#nltk.download(\"stopwords\")"
   ]
  },
  {
   "cell_type": "code",
   "execution_count": 40,
   "metadata": {},
   "outputs": [],
   "source": [
    "#len(nltk.corpus.stopwords.words(\"english\")) #all the reviews in this dataset are in English"
   ]
  },
  {
   "cell_type": "code",
   "execution_count": 41,
   "metadata": {},
   "outputs": [
    {
     "data": {
      "text/plain": [
       "['i', 'me', 'my', 'myself', 'we', 'our', 'ours', 'ourselves', 'you', \"you're\"]"
      ]
     },
     "execution_count": 41,
     "metadata": {},
     "output_type": "execute_result"
    }
   ],
   "source": [
    "nltk.corpus.stopwords.words(\"english\")[:10]"
   ]
  },
  {
   "cell_type": "code",
   "execution_count": 42,
   "metadata": {},
   "outputs": [
    {
     "data": {
      "text/plain": [
       "list"
      ]
     },
     "execution_count": 42,
     "metadata": {},
     "output_type": "execute_result"
    }
   ],
   "source": [
    "useless_words = nltk.corpus.stopwords.words(\"english\")\n",
    "type(useless_words)\n",
    "#useless_words"
   ]
  },
  {
   "cell_type": "code",
   "execution_count": 43,
   "metadata": {},
   "outputs": [],
   "source": [
    "#useless_words"
   ]
  },
  {
   "cell_type": "code",
   "execution_count": 44,
   "metadata": {},
   "outputs": [],
   "source": [
    "def build_bag_of_words_filtered(words):\n",
    "    return {\n",
    "        word:1 for word in words \n",
    "        if not word in useless_words}"
   ]
  },
  {
   "cell_type": "markdown",
   "metadata": {},
   "source": [
    "This function takes a list of words as input and returns a dictionary where each word in the input list is a key in the dictionary, and the corresponding value is set to 1, but only if the word is not found in the collection called useless_words"
   ]
  },
  {
   "cell_type": "markdown",
   "metadata": {},
   "source": [
    "We can build the negative and positive features separately using the build-bag-of-words function\n",
    "The format of the positive features should be:\n",
    "\n",
    "    [\n",
    "        ( { \"here\":1, \"some\":1, \"words\":1 }, \"pos\" ),\n",
    "        ( { \"another\":1, \"tweet\":1}, \"pos\" )\n",
    "    ]\n",
    "    \n",
    "It is a list of tuples, the first element is a dictionary of the words with 1 if that word appears, the second the \"pos\" or \"neg\" string."
   ]
  },
  {
   "cell_type": "code",
   "execution_count": 45,
   "metadata": {},
   "outputs": [],
   "source": [
    "positive_features = None\n",
    "positive_features = [(build_bag_of_words_filtered(review),'pos') for review in pos_reviews_wordslist ]"
   ]
  },
  {
   "cell_type": "code",
   "execution_count": 46,
   "metadata": {},
   "outputs": [
    {
     "data": {
      "text/plain": [
       "({'staff': 1, 'kind': 1}, 'pos')"
      ]
     },
     "execution_count": 46,
     "metadata": {},
     "output_type": "execute_result"
    }
   ],
   "source": [
    "positive_features[-1]"
   ]
  },
  {
   "cell_type": "code",
   "execution_count": 47,
   "metadata": {},
   "outputs": [
    {
     "data": {
      "text/plain": [
       "list"
      ]
     },
     "execution_count": 47,
     "metadata": {},
     "output_type": "execute_result"
    }
   ],
   "source": [
    "type(positive_features)"
   ]
  },
  {
   "cell_type": "code",
   "execution_count": 48,
   "metadata": {},
   "outputs": [],
   "source": [
    "negative_features = None\n",
    "negative_features = [(build_bag_of_words_filtered(review),'neg') for review in neg_reviews_wordslist ]"
   ]
  },
  {
   "cell_type": "code",
   "execution_count": 49,
   "metadata": {},
   "outputs": [
    {
     "data": {
      "text/plain": [
       "[({'No': 1, 'Negative': 1}, 'neg'),\n",
       " ({'I': 1, '3rd': 1, 'floor': 1, 'It': 1, 'work': 1, 'Free': 1, 'Wife': 1},\n",
       "  'neg')]"
      ]
     },
     "execution_count": 49,
     "metadata": {},
     "output_type": "execute_result"
    }
   ],
   "source": [
    "negative_features[-2:]"
   ]
  },
  {
   "cell_type": "code",
   "execution_count": null,
   "metadata": {},
   "outputs": [],
   "source": []
  },
  {
   "cell_type": "markdown",
   "metadata": {
    "collapsed": true
   },
   "source": [
    "### Train a Classifier for Sentiment Analysis"
   ]
  },
  {
   "cell_type": "markdown",
   "metadata": {},
   "source": [
    "We are using Naive Bayes classifier. Training it on 80 percent of the data, and test on the remaining 20 percent."
   ]
  },
  {
   "cell_type": "code",
   "execution_count": 50,
   "metadata": {},
   "outputs": [],
   "source": [
    "from nltk.classify import NaiveBayesClassifier"
   ]
  },
  {
   "cell_type": "code",
   "execution_count": 51,
   "metadata": {},
   "outputs": [
    {
     "data": {
      "text/plain": [
       "412169"
      ]
     },
     "execution_count": 51,
     "metadata": {},
     "output_type": "execute_result"
    }
   ],
   "source": [
    "#Using 80% of the data for training, the rest for validation:\n",
    "split = int(len(positive_features) * 0.8)\n",
    "split"
   ]
  },
  {
   "cell_type": "code",
   "execution_count": 52,
   "metadata": {},
   "outputs": [],
   "source": [
    "classifier = NaiveBayesClassifier.train(positive_features[:split]+negative_features[:split])"
   ]
  },
  {
   "cell_type": "code",
   "execution_count": 53,
   "metadata": {},
   "outputs": [],
   "source": [
    "#check the accuracy on the training and test sets, turning accuracy into percentage:"
   ]
  },
  {
   "cell_type": "code",
   "execution_count": 54,
   "metadata": {},
   "outputs": [
    {
     "data": {
      "text/plain": [
       "93.48980636583536"
      ]
     },
     "execution_count": 54,
     "metadata": {},
     "output_type": "execute_result"
    }
   ],
   "source": [
    "training_accuracy = None #check accuracy of training set\n",
    "training_accuracy = nltk.classify.util.accuracy(classifier, positive_features[:split] + negative_features[:split])*100\n",
    "training_accuracy"
   ]
  },
  {
   "cell_type": "markdown",
   "metadata": {},
   "source": [
    "The training accuracy is around 93.5 percent, which is quite good."
   ]
  },
  {
   "cell_type": "code",
   "execution_count": 55,
   "metadata": {},
   "outputs": [
    {
     "data": {
      "text/plain": [
       "92.54728608445018"
      ]
     },
     "execution_count": 55,
     "metadata": {},
     "output_type": "execute_result"
    }
   ],
   "source": [
    "test_accuracy = None #check accuracy of test set\n",
    "test_accuracy = nltk.classify.util.accuracy(classifier, positive_features[split:] + negative_features[split:])*100\n",
    "test_accuracy"
   ]
  },
  {
   "cell_type": "markdown",
   "metadata": {},
   "source": [
    "#### The test accuracy is over 92.5 percent, which is really good and almost as high as the training accuracy. It is also significantly higher for the estimated human prediction accuracy of 80%. \n",
    "\n",
    "\n",
    "\n",
    "#### This shows the Naive Bayes Classifier is a good method to use for this analysis since it performs well for this type of dataset. \n",
    "\n",
    "\n",
    "\n",
    "We can now print the most informative features below to understand why. The most informative features are the words that mostly identify a positive or a negative review, or the words that had the greatest effect on the prediction accuracy."
   ]
  },
  {
   "cell_type": "code",
   "execution_count": 56,
   "metadata": {},
   "outputs": [
    {
     "name": "stdout",
     "output_type": "stream",
     "text": [
      "Most Informative Features\n",
      "                Negative = 1                 neg : pos    =  22585.2 : 1.0\n",
      "                Positive = 1                 pos : neg    =  11589.0 : 1.0\n",
      "                   Comfy = 1                 pos : neg    =    234.4 : 1.0\n",
      "             Outstanding = 1                 pos : neg    =    211.7 : 1.0\n",
      "                Friendly = 1                 pos : neg    =    208.2 : 1.0\n",
      "                Spacious = 1                 pos : neg    =    184.5 : 1.0\n",
      "               Brilliant = 1                 pos : neg    =    168.8 : 1.0\n",
      "                 History = 1                 pos : neg    =    154.3 : 1.0\n",
      "                Charming = 1                 pos : neg    =    153.0 : 1.0\n",
      "             Beautifully = 1                 pos : neg    =    133.4 : 1.0\n"
     ]
    }
   ],
   "source": [
    "classifier.show_most_informative_features()"
   ]
  },
  {
   "cell_type": "markdown",
   "metadata": {},
   "source": [
    "As we can see, the words \"negative\" and \"positive\" appeared in lots of reviews and are quite informative. But due to the nature of the dataset (worded like a questionaire), lots of reviews actually say \"no positive\" or \"no negative\" which can be tricky since they would represent the opposite sentiment, which is why the ratio is not 100 percent (number of reviews versus 1). \n",
    "\n",
    "Since 9 out of 10 most informative features indicate high accuracy for a positive prediction, I decided to look at more of these features:"
   ]
  },
  {
   "cell_type": "code",
   "execution_count": 57,
   "metadata": {},
   "outputs": [
    {
     "name": "stdout",
     "output_type": "stream",
     "text": [
      "Most Informative Features\n",
      "                Negative = 1                 neg : pos    =  22585.2 : 1.0\n",
      "                Positive = 1                 pos : neg    =  11589.0 : 1.0\n",
      "                   Comfy = 1                 pos : neg    =    234.4 : 1.0\n",
      "             Outstanding = 1                 pos : neg    =    211.7 : 1.0\n",
      "                Friendly = 1                 pos : neg    =    208.2 : 1.0\n",
      "                Spacious = 1                 pos : neg    =    184.5 : 1.0\n",
      "               Brilliant = 1                 pos : neg    =    168.8 : 1.0\n",
      "                 History = 1                 pos : neg    =    154.3 : 1.0\n",
      "                Charming = 1                 pos : neg    =    153.0 : 1.0\n",
      "             Beautifully = 1                 pos : neg    =    133.4 : 1.0\n",
      "              Convenient = 1                 pos : neg    =    132.1 : 1.0\n",
      "                 Helpful = 1                 pos : neg    =    125.2 : 1.0\n",
      "               Excellent = 1                 pos : neg    =    121.8 : 1.0\n",
      "               Fantastic = 1                 pos : neg    =    116.0 : 1.0\n",
      "             Comfortable = 1                 pos : neg    =    114.5 : 1.0\n",
      "               Delicious = 1                 pos : neg    =    108.7 : 1.0\n",
      "               Luxurious = 1                 pos : neg    =    108.3 : 1.0\n",
      "                unstable = 1                 neg : pos    =    108.3 : 1.0\n",
      "            Conveniently = 1                 pos : neg    =    103.7 : 1.0\n",
      "                    Thin = 1                 neg : pos    =    103.7 : 1.0\n",
      "               Beautiful = 1                 pos : neg    =    101.0 : 1.0\n",
      "            inconsistent = 1                 neg : pos    =     97.7 : 1.0\n",
      "                     Hop = 1                 pos : neg    =     93.7 : 1.0\n",
      "                  Superb = 1                 pos : neg    =     91.7 : 1.0\n",
      "                 Charged = 1                 neg : pos    =     88.3 : 1.0\n",
      "                   Quiet = 1                 pos : neg    =     87.8 : 1.0\n",
      "                    Ease = 1                 pos : neg    =     87.7 : 1.0\n",
      "               Efficient = 1                 pos : neg    =     87.3 : 1.0\n",
      "                   Great = 1                 pos : neg    =     86.7 : 1.0\n",
      "                Spotless = 1                 pos : neg    =     85.7 : 1.0\n",
      "                unusable = 1                 neg : pos    =     85.7 : 1.0\n",
      "                 Stylish = 1                 pos : neg    =     83.4 : 1.0\n",
      "                    Lack = 1                 neg : pos    =     81.5 : 1.0\n",
      "                     Fab = 1                 pos : neg    =     81.4 : 1.0\n",
      "             Exceptional = 1                 pos : neg    =     81.0 : 1.0\n",
      "              unreliable = 1                 neg : pos    =     81.0 : 1.0\n",
      "             Convenience = 1                 pos : neg    =     79.3 : 1.0\n",
      "                 Amazing = 1                 pos : neg    =     78.2 : 1.0\n",
      "                  Lovely = 1                 pos : neg    =     76.7 : 1.0\n",
      "                   Close = 1                 pos : neg    =     76.4 : 1.0\n",
      "                Stunning = 1                 pos : neg    =     73.0 : 1.0\n",
      "               Wonderful = 1                 pos : neg    =     72.9 : 1.0\n",
      "                 damaged = 1                 neg : pos    =     72.8 : 1.0\n",
      "                Fabulous = 1                 pos : neg    =     72.5 : 1.0\n",
      "                Peaceful = 1                 pos : neg    =     72.3 : 1.0\n",
      "                    Loud = 1                 neg : pos    =     72.2 : 1.0\n",
      "                   Noisy = 1                 neg : pos    =     67.3 : 1.0\n",
      "                  Smelly = 1                 neg : pos    =     65.7 : 1.0\n",
      "                 Missing = 1                 neg : pos    =     63.7 : 1.0\n",
      "                  loudly = 1                 neg : pos    =     63.7 : 1.0\n"
     ]
    }
   ],
   "source": [
    "classifier.show_most_informative_features(50)"
   ]
  },
  {
   "cell_type": "markdown",
   "metadata": {},
   "source": [
    "#### From this list of most informative features, it's interesting to note that quite a few of the informative words from positive reviews refer to the hotel *staff* (Friendly, Helpful, Efficient) and *location* (Convenient, Conveniently, Convenience), while the most informative words for negative reviews seem to refer mostly to the *facilities* (Thin, Charged, Unusable, Lack, unreliable, damaged, Loud, Noisy, Smelly, Missing, loudly)"
   ]
  },
  {
   "cell_type": "markdown",
   "metadata": {},
   "source": []
  },
  {
   "cell_type": "markdown",
   "metadata": {
    "collapsed": true
   },
   "source": [
    "### Relationship between number of reviews a reviewer has given & review score"
   ]
  },
  {
   "cell_type": "markdown",
   "metadata": {},
   "source": [
    "We also want to explore whether there is a relationship between the number of reviews a reviewer has given in this dataset and the review score they give to a particular hotel (a larger number of reviews indicates the reviewer is an experienced traveller and often stays at this type of hotels). One hypothesis is a more experienced traveller might have higher standards and give a lower rating."
   ]
  },
  {
   "cell_type": "code",
   "execution_count": 75,
   "metadata": {},
   "outputs": [
    {
     "data": {
      "image/png": "[encoded data removed]",
      "text/plain": [
       "<Figure size 600x600 with 3 Axes>"
      ]
     },
     "metadata": {},
     "output_type": "display_data"
    }
   ],
   "source": [
    "sns_plot=sns.jointplot(x=\"total_number_of_reviews_reviewer_has_given\", y=\"reviewer_score\", data = data, size=15) "
   ]
  },
  {
   "cell_type": "code",
   "execution_count": 76,
   "metadata": {},
   "outputs": [
    {
     "data": {
      "text/plain": [
       "355"
      ]
     },
     "execution_count": 76,
     "metadata": {},
     "output_type": "execute_result"
    }
   ],
   "source": [
    "max(data.total_number_of_reviews_reviewer_has_given.unique())"
   ]
  }
 ],
 "metadata": {
  "kernelspec": {
   "display_name": "Python 3 (ipykernel)",
   "language": "python",
   "name": "python3"
  },
  "language_info": {
   "codemirror_mode": {
    "name": "ipython",
    "version": 3
   },
   "file_extension": ".py",
   "mimetype": "text/x-python",
   "name": "python",
   "nbconvert_exporter": "python",
   "pygments_lexer": "ipython3",
   "version": "3.11.2"
  }
 },
 "nbformat": 4,
 "nbformat_minor": 2
}
